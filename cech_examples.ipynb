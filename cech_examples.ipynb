{
 "cells": [
  {
   "cell_type": "markdown",
   "metadata": {},
   "source": [
    "# Examples\n",
    "Here we illustrate some example uses of the 'cech' package by constructing nerves in various ways for some simple manifolds and computing their Cech cohomology."
   ]
  },
  {
   "cell_type": "code",
   "execution_count": 1,
   "metadata": {},
   "outputs": [],
   "source": [
    "from cech import Nerve, Simplex\n",
    "from itertools import combinations"
   ]
  },
  {
   "cell_type": "markdown",
   "metadata": {},
   "source": [
    "#### 1. 1-sphere, $S^1$\n",
    "We start with a simple example of the 1-sphere, i.e. unit circle. Empirically, the simplest good cover corresponds to 3 sets, say, each covering a third of the circle. This gives rise to a nerve equivalent to the frame of a triangle. "
   ]
  },
  {
   "cell_type": "code",
   "execution_count": 24,
   "metadata": {},
   "outputs": [
    {
     "name": "stdout",
     "output_type": "stream",
     "text": [
      "Nerve({\n",
      "\t1: \n",
      "\t\t0-2, 0-1, 1-2\n",
      "\t0: \n",
      "\t\t2, 0, 1\n",
      "})\n"
     ]
    }
   ],
   "source": [
    "s1 = Nerve()\n",
    "edges = ['0-1', '1-2', '2-0']\n",
    "for e in edges:\n",
    "    s1.extend(Simplex(e))\n",
    "print(s1)"
   ]
  },
  {
   "cell_type": "markdown",
   "metadata": {},
   "source": [
    "It has the cohomology we'd expect:"
   ]
  },
  {
   "cell_type": "code",
   "execution_count": 25,
   "metadata": {},
   "outputs": [
    {
     "name": "stdout",
     "output_type": "stream",
     "text": [
      "(1, 1)\n"
     ]
    }
   ],
   "source": [
    "print(s1.cech_cohomology_seq())"
   ]
  },
  {
   "cell_type": "markdown",
   "metadata": {},
   "source": [
    "That is, $H^0(\\mathbb{R}\\mathrm{P}^1) \\simeq \\mathbb{R}^1$ and $H^1(\\mathbb{R}\\mathrm{P}^1) \\simeq \\mathbb{R}^1$."
   ]
  },
  {
   "cell_type": "markdown",
   "metadata": {},
   "source": [
    "#### 2. Real projective line, $\\mathbb{R}\\mathrm{P}^1$\n",
    "\n",
    "To study $\\mathbb{R}\\mathrm{P}^1$, we can start by defining a 6 set open cover of a circle $S^1$, then identify the covers which are opposite (antipodal) about the origin."
   ]
  },
  {
   "cell_type": "code",
   "execution_count": 22,
   "metadata": {},
   "outputs": [
    {
     "name": "stdout",
     "output_type": "stream",
     "text": [
      "Nerve({\n",
      "\t1: \n",
      "\t\t0-1, 2-3, 4-5, 3-4, 1-2, 0-5\n",
      "\t0: \n",
      "\t\t5, 3, 1, 2, 0, 4\n",
      "})\n"
     ]
    }
   ],
   "source": [
    "rp1 = Nerve()\n",
    "edges = ['0-1', '1-2', '2-3', '3-4', '4-5', '5-0']\n",
    "for e in edges:\n",
    "    rp1.extend(Simplex(e))\n",
    "print(rp1)"
   ]
  },
  {
   "cell_type": "code",
   "execution_count": 23,
   "metadata": {},
   "outputs": [
    {
     "name": "stdout",
     "output_type": "stream",
     "text": [
      "Nerve({\n",
      "\t1: \n",
      "\t\t0-1, 0-2, 1-2\n",
      "\t0: \n",
      "\t\t1, 2, 0\n",
      "})\n"
     ]
    }
   ],
   "source": [
    "rp1.identify(0, 3)\n",
    "rp1.identify(1, 4)\n",
    "rp1.identify(2, 5)\n",
    "print(rp1)"
   ]
  },
  {
   "cell_type": "markdown",
   "metadata": {},
   "source": [
    "We see from the above that after identification, the 6 set cover is identical to the 3 set cover of $S^1$; i.e. the manifolds have identical cohomology. Computing the cohomology, we obtain the following:"
   ]
  },
  {
   "cell_type": "code",
   "execution_count": 4,
   "metadata": {},
   "outputs": [
    {
     "name": "stdout",
     "output_type": "stream",
     "text": [
      "(1, 1)\n"
     ]
    }
   ],
   "source": [
    "print(rp1.cech_cohomology_seq())"
   ]
  },
  {
   "cell_type": "markdown",
   "metadata": {},
   "source": [
    "#### 3. $S^2$ and $S^n$\n",
    "A good cover of an $n$-sphere in general corresponds to a nerve of an $n$-simplex. Here we illustrate the case when $n=2$:"
   ]
  },
  {
   "cell_type": "code",
   "execution_count": 6,
   "metadata": {},
   "outputs": [
    {
     "name": "stdout",
     "output_type": "stream",
     "text": [
      "Nerve({\n",
      "\t2: \n",
      "\t\t0-1-3, 1-2-3, 0-1-2, 0-2-3\n",
      "\t1: \n",
      "\t\t0-1, 1-3, 2-3, 0-2, 0-3, 1-2\n",
      "\t0: \n",
      "\t\t3, 2, 0, 1\n",
      "})\n"
     ]
    }
   ],
   "source": [
    "s2 = Nerve()\n",
    "s2.extend(Simplex('0-1-2-3'), hollow=True)\n",
    "print(s2)"
   ]
  },
  {
   "cell_type": "code",
   "execution_count": 7,
   "metadata": {},
   "outputs": [
    {
     "name": "stdout",
     "output_type": "stream",
     "text": [
      "(1, 0, 1)\n"
     ]
    }
   ],
   "source": [
    "print(s2.cech_cohomology_seq())"
   ]
  },
  {
   "cell_type": "markdown",
   "metadata": {},
   "source": [
    "#### 4. Real projective plane, $\\mathbb{R}\\mathrm{P}^2$\n",
    "We first consider an icosahedral nerve corresponding to a good cover of $S^2$. Then we identify the upper and lower hemispheres (identify 3 pairs of sets) so we obtain the nerve of a good cover of the disc $D^2$. Finally, we identify 3 pairs of the boundary sets, just like for $\\mathbb{R}\\mathrm{P}^1$. In the cell below is the nerve structure for $\\mathbb{R}\\mathrm{P}^2$ after these identifications:"
   ]
  },
  {
   "cell_type": "code",
   "execution_count": 8,
   "metadata": {},
   "outputs": [
    {
     "name": "stdout",
     "output_type": "stream",
     "text": [
      "Nerve({\n",
      "\t2: \n",
      "\t\t0-1-3, 3-4-5, 2-3-4, 0-2-5, 1-3-5, 0-1-4, 0-2-3, 1-2-4, 0-4-5, 1-2-5\n",
      "\t1: \n",
      "\t\t3-5, 0-1, 0-4, 1-3, 1-5, 2-3, 2-5, 0-2, 4-5, 1-4, 0-3, 2-4, 3-4, 1-2, 0-5\n",
      "\t0: \n",
      "\t\t3, 1, 2, 4, 0, 5\n",
      "})\n"
     ]
    }
   ],
   "source": [
    "rp2 = Nerve()\n",
    "triangles = ['1-2-5', '2-5-0', '1-5-3', '5-3-4', '5-4-0', '1-0-3', '0-4-1', '0-3-2', '2-3-4', '4-2-1']\n",
    "for t in triangles:\n",
    "    rp2.extend(Simplex(t))\n",
    "print(rp2)\n"
   ]
  },
  {
   "cell_type": "markdown",
   "metadata": {},
   "source": [
    "Of course, it is likely unwieldy to define more complicated nerves one simplex at a time. Below, we start with a nerve for $D^2$ with no identifications, then use the 'identify' method to identify its boundary in order to obtain a nerve for $\\mathbb{R}\\mathrm{P}^2$."
   ]
  },
  {
   "cell_type": "code",
   "execution_count": 9,
   "metadata": {},
   "outputs": [
    {
     "name": "stdout",
     "output_type": "stream",
     "text": [
      "Nerve({\n",
      "\t2: \n",
      "\t\t3-4-5, 0-4-7, 3-4-8, 4-7-8, 0-2-5, 1-3-5, 0-4-5, 3-6-8, 1-3-6, 1-2-5\n",
      "\t1: \n",
      "\t\t3-5, 0-4, 1-3, 1-5, 2-5, 0-2, 4-7, 4-5, 3-8, 4-8, 7-8, 0-7, 3-6, 6-8, 3-4, 1-6, 1-2, 0-5\n",
      "\t0: \n",
      "\t\t7, 3, 8, 1, 2, 4, 0, 5, 6\n",
      "})\n"
     ]
    }
   ],
   "source": [
    "rp2_alt = Nerve()\n",
    "triangles = ['1-2-5', '2-5-0', '1-5-3', '5-3-4', '5-4-0', '1-6-3', '0-4-7', '6-3-8', '8-3-4', '4-8-7']\n",
    "for t in triangles:\n",
    "    rp2_alt.extend(Simplex(t))\n",
    "print(rp2_alt)"
   ]
  },
  {
   "cell_type": "code",
   "execution_count": 10,
   "metadata": {},
   "outputs": [
    {
     "name": "stdout",
     "output_type": "stream",
     "text": [
      "Nerve({\n",
      "\t2: \n",
      "\t\t0-1-3, 3-4-5, 2-3-4, 0-2-5, 1-3-5, 0-1-4, 1-2-4, 0-2-3, 0-4-5, 1-2-5\n",
      "\t1: \n",
      "\t\t2-5, 0-2, 1-2, 0-4, 1-3, 1-5, 2-3, 0-3, 4-5, 1-4, 3-4, 3-5, 0-1, 2-4, 0-5\n",
      "\t0: \n",
      "\t\t3, 1, 2, 4, 0, 5\n",
      "})\n",
      "True\n"
     ]
    }
   ],
   "source": [
    "rp2_alt.identify(0, 6)\n",
    "rp2_alt.identify(1, 7)\n",
    "rp2_alt.identify(2, 8)\n",
    "print(rp2_alt)\n",
    "print(rp2 == rp2_alt)"
   ]
  },
  {
   "cell_type": "markdown",
   "metadata": {},
   "source": [
    "We see that after identification, we arrive at the same nerve. There is yet another approach: we could define all the edges of the nerve (if this happens to be easier), then introduce 2-simplices where the boundaries are existing edges:"
   ]
  },
  {
   "cell_type": "code",
   "execution_count": 12,
   "metadata": {},
   "outputs": [
    {
     "name": "stdout",
     "output_type": "stream",
     "text": [
      "Nerve({\n",
      "\t1: \n",
      "\t\t2-5, 0-2, 1-2, 0-4, 1-3, 1-5, 2-3, 0-3, 4-5, 1-4, 3-4, 3-5, 0-1, 2-4, 0-5\n",
      "\t0: \n",
      "\t\t3, 1, 2, 4, 0, 5\n",
      "\t2: \n",
      "\t\t0-1-3, 3-4-5, 2-3-4, 0-2-5, 1-3-5, 0-1-4, 1-2-4, 0-2-3, 0-4-5, 1-2-5\n",
      "})\n",
      "True\n"
     ]
    }
   ],
   "source": [
    "rp2_alt2 = Nerve()\n",
    "edges = ['1-2', '2-0', '0-7', '7-8', '8-6', '6-1', \n",
    "         '2-5', '7-4', '6-3', '3-4', '4-5', '5-3', \n",
    "         '1-5', '1-3', '0-4', '0-5', '8-3', '8-4']\n",
    "for e in edges:\n",
    "    rp2_alt2.extend(Simplex(e))\n",
    "rp2_alt2.fill(2)\n",
    "rp2_alt2.identify(0, 6)\n",
    "rp2_alt2.identify(1, 7)\n",
    "rp2_alt2.identify(2, 8)\n",
    "print(rp2_alt2)\n",
    "print(rp2_alt2 == rp2)"
   ]
  },
  {
   "cell_type": "markdown",
   "metadata": {},
   "source": [
    "Finally, let's have a look at its cohomology:"
   ]
  },
  {
   "cell_type": "code",
   "execution_count": 13,
   "metadata": {},
   "outputs": [
    {
     "name": "stdout",
     "output_type": "stream",
     "text": [
      "(1, 0, 0)\n"
     ]
    }
   ],
   "source": [
    "print(rp2.cech_cohomology_seq())"
   ]
  },
  {
   "cell_type": "markdown",
   "metadata": {},
   "source": [
    "Note due to the fact that the Cech cohomology is over the field of $\\mathbb{R}$ which is 2-divisible, the interesting structure that can be encapsulated with e.g. simplicial homology in dimension 2 is not present here."
   ]
  },
  {
   "cell_type": "markdown",
   "metadata": {},
   "source": [
    "#### 5. Real projective space, $\\mathbb{R}\\mathrm{P}^3$\n",
    "This is a more involved example, as it was a non-trivial task to find a nerve structure corresponding to a good cover for this manifold. We will encounter uses of many of the methods for nerve construction here. The nerve is one for D^3 with boundary appropriately identified. We start with an icosahedral nerve:"
   ]
  },
  {
   "cell_type": "code",
   "execution_count": 14,
   "metadata": {},
   "outputs": [],
   "source": [
    "rp3 = Nerve()\n",
    "faces = ['6-7-8', '5-0-6', '6-0-7', '7-0-1', '1-2-7', '7-2-8', '8-2-3', '3-4-8', '8-4-6', '6-4-5', \n",
    "         '9-1-10', '10-1-2', '2-3-10', '10-3-11', '11-3-4', '4-5-11', '11-5-9', '9-5-0', '0-1-9', '9-10-11']\n",
    "for f in faces:\n",
    "    rp3.extend(Simplex(f))\n"
   ]
  },
  {
   "cell_type": "markdown",
   "metadata": {},
   "source": [
    "The icosahedron contains a 'central' tetrahedron, with an extruding tetrahedron from each face, joined by edges to the vertices of the icosahedron."
   ]
  },
  {
   "cell_type": "code",
   "execution_count": 15,
   "metadata": {},
   "outputs": [],
   "source": [
    "rp3.extend(Simplex('12-13-14-15'))\n",
    "tetras = ['13-14-15-16', '12-14-15-17', '12-13-15-18', '12-13-14-19', \n",
    "          '16-5-0-6', '17-10-1-9', '18-2-8-7', '19-4-11-3']\n",
    "edges2 = ['15-2', '15-7', '15-6', '15-0', '15-1', '15-9', \n",
    "          '13-6', '13-7', '13-8', '13-5', '13-4', '13-3', \n",
    "          '12-2', '12-3', '12-8', '12-1', '12-10', '12-11', \n",
    "          '14-9', '14-10', '14-11', '14-0', '14-4', '14-5']\n",
    "for thing in tetras + edges2:\n",
    "    rp3.extend(Simplex(thing))"
   ]
  },
  {
   "cell_type": "markdown",
   "metadata": {},
   "source": [
    "Extending the nerve by these simplices, we end up with many holes where we would have liked there to be a face or a tetrahedron (i.e. an appropriate intersection of the open sets), so we use 'fill':"
   ]
  },
  {
   "cell_type": "code",
   "execution_count": 16,
   "metadata": {},
   "outputs": [],
   "source": [
    "rp3.fill(2)\n",
    "rp3.fill(3)"
   ]
  },
  {
   "cell_type": "code",
   "execution_count": 17,
   "metadata": {},
   "outputs": [
    {
     "name": "stdout",
     "output_type": "stream",
     "text": [
      "Nerve({\n",
      "\t2: \n",
      "\t\t0-6-7, 0-5-6, 2-12-18, 12-13-15, 6-7-13, 5-14-16, 0-7-15, 1-12-17, 14-15-16, 4-14-19, 4-11-19, 0-1-7, 4-6-13, 12-14-19, 0-5-9, 13-14-19, 6-7-15, 2-10-12, 8-12-18, 11-14-19, 6-7-8, 0-15-16, 0-9-15, 6-13-16, 9-14-17, 3-4-19, 1-2-10, 13-15-16, 4-5-14, 12-14-17, 1-2-15, 10-11-14, 4-5-6, 9-15-17, 12-13-18, 1-7-15, 5-9-11, 2-3-10, 2-7-18, 1-12-15, 7-15-18, 1-10-12, 3-4-11, 7-13-15, 1-9-15, 1-15-17, 3-12-13, 3-12-19, 9-10-14, 4-11-14, 6-8-13, 11-12-19, 5-13-14, 5-11-14, 13-15-18, 5-6-13, 11-12-14, 3-8-13, 10-12-17, 2-3-12, 1-9-10, 12-14-15, 9-11-14, 3-11-12, 7-8-13, 6-15-16, 0-5-16, 12-13-14, 4-5-13, 1-10-17, 3-4-8, 5-13-16, 13-14-15, 4-6-8, 1-2-7, 2-7-15, 0-5-14, 4-13-19, 0-1-15, 2-8-18, 4-13-14, 10-12-14, 9-14-15, 3-10-12, 12-15-17, 1-9-17, 0-14-16, 3-8-12, 8-13-18, 9-10-11, 1-2-12, 3-11-19, 5-9-14, 0-6-16, 4-8-13, 5-6-16, 2-7-8, 9-10-17, 2-3-8, 4-5-11, 2-12-15, 7-8-18, 0-6-15, 8-12-13, 3-13-19, 7-13-18, 0-9-14, 14-15-17, 0-1-9, 2-8-12, 2-15-18, 10-11-12, 3-10-11, 3-4-13, 0-14-15, 12-13-19, 10-14-17, 13-14-16, 12-15-18, 6-13-15\n",
      "\t1: \n",
      "\t\t13-18, 13-19, 6-16, 11-19, 0-7, 0-9, 7-13, 10-14, 2-15, 7-15, 7-8, 13-14, 4-13, 2-7, 0-6, 9-11, 13-16, 4-6, 3-4, 15-18, 8-13, 14-15, 0-15, 3-8, 6-15, 1-17, 0-5, 12-15, 3-13, 1-2, 1-10, 0-14, 14-17, 5-9, 14-19, 7-18, 0-1, 1-15, 10-11, 1-7, 6-13, 9-14, 6-8, 0-16, 5-6, 5-13, 13-15, 8-12, 9-17, 1-12, 3-12, 4-11, 5-14, 15-16, 11-12, 10-12, 3-19, 2-10, 6-7, 3-11, 2-8, 12-13, 2-18, 10-17, 4-8, 12-18, 3-10, 12-17, 2-3, 5-11, 9-10, 15-17, 12-14, 4-14, 5-16, 4-19, 9-15, 4-5, 14-16, 8-18, 2-12, 12-19, 1-9, 11-14\n",
      "\t0: \n",
      "\t\t13, 2, 4, 11, 14, 10, 0, 12, 1, 15, 5, 18, 7, 3, 8, 17, 19, 9, 16, 6\n",
      "\t3: \n",
      "\t\t11-12-14-19, 4-11-14-19, 0-5-6-16, 10-11-12-14, 7-13-15-18, 10-12-14-17, 13-14-15-16, 1-9-15-17, 4-13-14-19, 4-5-6-13, 3-8-12-13, 12-13-14-19, 2-3-10-12, 3-11-12-19, 1-2-10-12, 4-5-11-14, 5-9-11-14, 0-5-9-14, 0-1-7-15, 0-6-15-16, 9-14-15-17, 9-10-11-14, 9-10-14-17, 1-10-12-17, 4-5-13-14, 1-9-10-17, 2-8-12-18, 1-2-7-15, 8-12-13-18, 4-6-8-13, 12-13-14-15, 12-14-15-17, 3-4-13-19, 5-13-14-16, 1-2-12-15, 5-6-13-16, 6-13-15-16, 0-1-9-15, 0-6-7-15, 6-7-13-15, 3-4-8-13, 6-7-8-13, 2-3-8-12, 3-10-11-12, 0-14-15-16, 0-5-14-16, 1-12-15-17, 3-4-11-19, 2-12-15-18, 12-13-15-18, 3-12-13-19, 2-7-15-18, 2-7-8-18, 7-8-13-18, 0-9-14-15\n",
      "})\n",
      "20\n",
      "84\n",
      "120\n",
      "55\n"
     ]
    }
   ],
   "source": [
    "print(rp3)\n",
    "for i in range(4):\n",
    "    print(len(rp3._simplices[i]))"
   ]
  },
  {
   "cell_type": "markdown",
   "metadata": {},
   "source": [
    "Now we identify the boundary - that is, opposite vertices of the icosahedron. We end up with a 14 set cover."
   ]
  },
  {
   "cell_type": "code",
   "execution_count": 18,
   "metadata": {},
   "outputs": [],
   "source": [
    "pairs = [(0, 3), (1, 4), (2, 5), (6, 10), (7, 11), (8, 9)]\n",
    "for pair in pairs:\n",
    "    rp3.identify(pair[0], pair[1])"
   ]
  },
  {
   "cell_type": "code",
   "execution_count": 26,
   "metadata": {},
   "outputs": [
    {
     "name": "stdout",
     "output_type": "stream",
     "text": [
      "Nerve({\n",
      "\t2: \n",
      "\t\t6-12-17, 0-6-7, 2-12-18, 2-6-13, 12-13-15, 6-7-13, 6-7-12, 0-7-15, 1-12-17, 0-6-12, 14-15-16, 0-1-7, 1-2-14, 12-14-19, 7-14-19, 13-14-19, 6-7-15, 0-8-12, 8-12-18, 0-8-14, 6-7-8, 1-13-19, 1-8-13, 1-7-19, 2-6-16, 0-1-13, 0-15-16, 0-2-12, 6-13-16, 13-15-16, 12-14-17, 1-2-15, 12-13-18, 1-7-15, 8-15-17, 2-7-18, 1-12-15, 2-14-16, 1-7-14, 7-15-18, 7-13-15, 1-13-14, 1-6-17, 1-15-17, 0-7-19, 1-6-13, 1-2-13, 1-6-12, 6-8-13, 8-14-17, 7-12-14, 0-12-19, 13-15-18, 2-6-12, 12-14-15, 2-13-16, 7-8-13, 1-2-6, 6-15-16, 12-13-14, 13-14-15, 1-2-7, 2-7-15, 0-8-13, 0-8-15, 1-8-15, 6-8-14, 0-1-15, 2-8-18, 0-2-6, 2-8-14, 0-2-14, 2-13-14, 12-15-17, 0-14-16, 8-13-18, 0-1-19, 1-2-12, 7-12-19, 0-6-16, 2-7-14, 0-1-8, 1-6-8, 1-8-17, 7-8-14, 2-7-8, 0-7-12, 0-2-8, 8-14-15, 6-8-17, 2-12-15, 7-8-18, 0-6-15, 8-12-13, 7-13-18, 14-15-17, 6-7-14, 2-8-12, 0-13-19, 2-15-18, 6-12-14, 0-14-15, 0-2-16, 12-13-19, 1-14-19, 6-14-17, 0-12-13, 13-14-16, 12-15-18, 6-13-15\n",
      "\t1: \n",
      "\t\t13-18, 13-19, 6-16, 0-7, 7-13, 8-15, 2-15, 7-15, 7-8, 13-14, 2-7, 0-6, 1-19, 13-16, 15-18, 2-13, 8-13, 14-15, 0-15, 6-15, 1-17, 7-12, 8-17, 12-15, 2-14, 1-6, 1-2, 7-19, 1-13, 0-8, 0-14, 14-17, 0-13, 1-14, 14-19, 7-18, 0-1, 1-15, 1-7, 6-13, 6-8, 0-16, 13-15, 0-2, 8-12, 1-12, 0-19, 15-16, 6-7, 2-6, 7-14, 6-14, 2-8, 12-13, 2-18, 12-18, 6-12, 12-17, 2-16, 1-8, 15-17, 8-14, 12-14, 6-17, 0-12, 14-16, 8-18, 2-12, 12-19\n",
      "\t0: \n",
      "\t\t13, 2, 14, 0, 12, 1, 15, 18, 7, 8, 17, 19, 16, 6\n",
      "\t3: \n",
      "\t\t1-8-15-17, 2-6-13-16, 6-8-14-17, 0-6-7-12, 0-2-6-16, 1-2-13-14, 0-7-12-19, 0-2-8-14, 1-2-7-14, 0-12-13-19, 7-12-14-19, 1-7-14-19, 0-1-8-15, 0-1-8-13, 1-6-8-13, 2-8-12-18, 0-2-6-12, 8-12-13-18, 12-13-14-15, 1-2-12-15, 6-7-12-14, 2-7-8-14, 6-13-15-16, 0-6-7-15, 6-12-14-17, 6-7-13-15, 0-8-12-13, 6-7-8-13, 1-12-15-17, 0-14-15-16, 1-2-6-13, 2-12-15-18, 7-8-13-18, 1-2-6-12, 2-13-14-16, 0-1-13-19, 7-13-15-18, 13-14-15-16, 6-7-8-14, 0-8-14-15, 12-13-14-19, 0-1-7-15, 0-6-15-16, 0-2-8-12, 0-2-14-16, 1-2-7-15, 0-1-7-19, 12-14-15-17, 12-13-15-18, 2-7-15-18, 2-7-8-18, 1-13-14-19, 1-6-8-17, 8-14-15-17, 1-6-12-17\n",
      "})\n",
      "14\n",
      "69\n",
      "110\n",
      "55\n"
     ]
    }
   ],
   "source": [
    "print(rp3)\n",
    "for i in range(4):\n",
    "    print(len(rp3._simplices[i]))"
   ]
  },
  {
   "cell_type": "markdown",
   "metadata": {},
   "source": [
    "Finally, we have the correct cohomology computation:"
   ]
  },
  {
   "cell_type": "code",
   "execution_count": 20,
   "metadata": {},
   "outputs": [
    {
     "name": "stdout",
     "output_type": "stream",
     "text": [
      "(1, 0, 0, 1)\n"
     ]
    }
   ],
   "source": [
    "print(rp3.cech_cohomology_seq())"
   ]
  }
 ],
 "metadata": {
  "kernelspec": {
   "display_name": "topo_venv",
   "language": "python",
   "name": "python3"
  },
  "language_info": {
   "codemirror_mode": {
    "name": "ipython",
    "version": 3
   },
   "file_extension": ".py",
   "mimetype": "text/x-python",
   "name": "python",
   "nbconvert_exporter": "python",
   "pygments_lexer": "ipython3",
   "version": "3.12.2"
  }
 },
 "nbformat": 4,
 "nbformat_minor": 2
}
