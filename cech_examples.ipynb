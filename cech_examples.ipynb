{
 "cells": [
  {
   "cell_type": "code",
   "execution_count": 1,
   "metadata": {},
   "outputs": [],
   "source": [
    "from cech import Nerve, Simplex\n",
    "from itertools import combinations"
   ]
  },
  {
   "cell_type": "code",
   "execution_count": 2,
   "metadata": {},
   "outputs": [
    {
     "name": "stdout",
     "output_type": "stream",
     "text": [
      "Nerve({\n",
      "\t1: \n",
      "\t\t2-3, 0-5, 0-1, 1-2, 4-5, 3-4\n",
      "\t0: \n",
      "\t\t0, 5, 2, 4, 3, 1\n",
      "})\n"
     ]
    }
   ],
   "source": [
    "s1 = Nerve()\n",
    "edges = ['0-1', '1-2', '2-3', '3-4', '4-5', '5-0']\n",
    "for e in edges:\n",
    "    s1.extend(Simplex(e))\n",
    "print(s1)"
   ]
  },
  {
   "cell_type": "code",
   "execution_count": 3,
   "metadata": {},
   "outputs": [
    {
     "name": "stdout",
     "output_type": "stream",
     "text": [
      "Nerve({\n",
      "\t1: \n",
      "\t\t0-2, 0-1, 1-2\n",
      "\t0: \n",
      "\t\t0, 2, 1\n",
      "})\n"
     ]
    }
   ],
   "source": [
    "s1.identify(0, 3)\n",
    "s1.identify(1, 4)\n",
    "s1.identify(2, 5)\n",
    "print(s1)"
   ]
  },
  {
   "cell_type": "code",
   "execution_count": 5,
   "metadata": {},
   "outputs": [
    {
     "name": "stdout",
     "output_type": "stream",
     "text": [
      "1\n",
      "1\n"
     ]
    }
   ],
   "source": [
    "for i in range(s1.degree + 1):\n",
    "    print(s1.cech_cohomology(i))"
   ]
  },
  {
   "cell_type": "code",
   "execution_count": 5,
   "metadata": {},
   "outputs": [
    {
     "name": "stdout",
     "output_type": "stream",
     "text": [
      "Nerve({\n",
      "\t2: \n",
      "\t\t1-2-3, 0-1-2, 0-1-3, 0-2-3\n",
      "\t1: \n",
      "\t\t1-2, 0-2, 0-3, 2-3, 1-3, 0-1\n",
      "\t0: \n",
      "\t\t3, 1, 2, 0\n",
      "})\n",
      "2\n"
     ]
    }
   ],
   "source": [
    "s2 = Nerve()\n",
    "s2.extend(Simplex('0-1-2-3'))\n",
    "s2.remove(Simplex('0-1-2-3'))\n",
    "print(s2)\n",
    "print(s2.degree)"
   ]
  },
  {
   "cell_type": "code",
   "execution_count": 6,
   "metadata": {},
   "outputs": [
    {
     "name": "stdout",
     "output_type": "stream",
     "text": [
      "1\n",
      "0\n",
      "1\n",
      "0\n",
      "0\n"
     ]
    }
   ],
   "source": [
    "for i in range(5):\n",
    "    print(s2.cech_cohomology(i))"
   ]
  },
  {
   "cell_type": "code",
   "execution_count": 7,
   "metadata": {},
   "outputs": [
    {
     "name": "stdout",
     "output_type": "stream",
     "text": [
      "Nerve({\n",
      "\t2: \n",
      "\t\t0-2-3, 0-4-5, 0-1-4, 0-2-5, 1-2-5, 1-3-5, 3-4-5, 2-3-4, 1-2-4, 0-1-3\n",
      "\t1: \n",
      "\t\t1-2, 0-2, 1-4, 2-4, 0-3, 3-5, 2-3, 4-5, 0-4, 1-3, 3-4, 1-5, 0-5, 0-1, 2-5\n",
      "\t0: \n",
      "\t\t0, 1, 2, 3, 4, 5\n",
      "})\n"
     ]
    }
   ],
   "source": [
    "rp2 = Nerve()\n",
    "triangles = ['1-2-5', '2-5-0', '1-5-3', '5-3-4', '5-4-0', '1-0-3', '0-4-1', '0-3-2', '2-3-4', '4-2-1']\n",
    "for t in triangles:\n",
    "    rp2.extend(Simplex(t))\n",
    "print(rp2)\n"
   ]
  },
  {
   "cell_type": "code",
   "execution_count": 29,
   "metadata": {},
   "outputs": [
    {
     "name": "stdout",
     "output_type": "stream",
     "text": [
      "0-1-2\n",
      "0-1-5\n",
      "0-2-4\n",
      "0-3-4\n",
      "0-3-5\n",
      "1-2-3\n",
      "1-3-4\n",
      "1-4-5\n",
      "2-3-5\n",
      "2-4-5\n"
     ]
    }
   ],
   "source": [
    "for p1, p2, p3 in combinations(range(6), r=3):\n",
    "    if {f'{p2}-{p3}', \n",
    "        f'{p1}-{p3}', \n",
    "        f'{p1}-{p2}'} <= rp2._simplices[1] and f'{p1}-{p2}-{p3}' not in rp2._simplices[2]:\n",
    "        print(f'{p1}-{p2}-{p3}')"
   ]
  },
  {
   "cell_type": "code",
   "execution_count": 8,
   "metadata": {},
   "outputs": [
    {
     "name": "stdout",
     "output_type": "stream",
     "text": [
      "1\n",
      "0\n",
      "0\n",
      "0\n",
      "0\n"
     ]
    }
   ],
   "source": [
    "for i in range(5):\n",
    "    print(rp2.cech_cohomology(i))"
   ]
  },
  {
   "cell_type": "code",
   "execution_count": 2,
   "metadata": {},
   "outputs": [
    {
     "name": "stdout",
     "output_type": "stream",
     "text": [
      "Nerve({\n",
      "\t3: \n",
      "\t\t2-4-5-7, 1-2-4-7, 3-4-5-6, 1-3-4-6, 0-3-5-6, 0-1-2-6, 0-2-5-7, 0-1-6-7, 0-2-3-4, 1-2-3-7, 2-3-4-5, 0-1-2-5, 0-2-3-7, 1-2-3-6, 0-5-6-7, 0-1-2-4, 0-1-3-4, 0-2-3-6, 1-2-3-5, 1-4-6-7, 0-1-3-5, 4-5-6-7, 0-1-3-7\n",
      "\t2: \n",
      "\t\t1-3-7, 1-4-6, 0-2-3, 1-2-5, 0-1-5, 0-1-2, 1-6-7, 1-3-6, 5-6-7, 1-4-7, 0-1-3, 2-5-7, 0-5-6, 2-3-5, 0-2-7, 0-1-6, 1-2-6, 3-4-6, 3-4-5, 1-2-3, 1-2-4, 1-3-5, 4-5-6, 2-3-4, 0-2-5, 3-5-6, 2-3-6, 0-3-4, 1-3-4, 0-2-4, 0-5-7, 0-3-5, 0-3-7, 4-5-7, 2-4-7, 0-6-7, 0-3-6, 2-3-7, 4-6-7, 2-4-5, 0-1-7, 0-2-6, 0-1-4, 1-2-7\n",
      "\t1: \n",
      "\t\t1-3, 4-6, 5-7, 5-6, 2-6, 0-5, 3-7, 0-7, 4-5, 6-7, 1-2, 3-5, 2-5, 1-5, 2-7, 3-4, 3-6, 0-1, 1-7, 4-7, 0-6, 0-4, 1-4, 0-2, 2-4, 0-3, 1-6, 2-3\n",
      "\t0: \n",
      "\t\t7, 5, 6, 1, 3, 2, 4, 0\n",
      "})\n"
     ]
    }
   ],
   "source": [
    "rp3 = Nerve()\n",
    "tetras = ['4-0-2-3', '4-0-1-3', '4-0-1-2', \n",
    "          '5-1-2-3', '5-1-0-3', '5-1-0-2', \n",
    "          '6-2-1-3', '6-2-0-3', '6-2-0-1', \n",
    "          '7-3-1-2', '7-3-0-2', '7-3-0-1', \n",
    "          '0-5-6-7', '1-4-6-7', '2-4-5-7', '3-4-5-6', \n",
    "          '1-2-4-7', '2-3-4-5', '1-3-4-6', '0-3-5-6', '0-2-5-7', '0-1-6-7', \n",
    "          '4-5-6-7']\n",
    "for t in tetras:\n",
    "    rp3.extend(Simplex(t))\n",
    "\n",
    "print(rp3)"
   ]
  },
  {
   "cell_type": "code",
   "execution_count": null,
   "metadata": {},
   "outputs": [],
   "source": []
  },
  {
   "cell_type": "code",
   "execution_count": 10,
   "metadata": {},
   "outputs": [
    {
     "name": "stdout",
     "output_type": "stream",
     "text": [
      "0-1-2-3\n",
      "0-1-2-7\n",
      "0-1-3-6\n",
      "0-2-3-5\n",
      "1-2-3-4\n"
     ]
    }
   ],
   "source": [
    "for p1, p2, p3, p4 in combinations(range(8), r=4):\n",
    "    if {f'{p2}-{p3}-{p4}', \n",
    "        f'{p1}-{p3}-{p4}', \n",
    "        f'{p1}-{p2}-{p4}', \n",
    "        f'{p1}-{p2}-{p3}'} <= rp3._simplices[2] and f'{p1}-{p2}-{p3}-{p4}' not in rp3._simplices[3]:\n",
    "        print(f'{p1}-{p2}-{p3}-{p4}')\n",
    "        #rp3.extend(Simplex(f'{p1}-{p2}-{p3}-{p4}'))"
   ]
  },
  {
   "cell_type": "code",
   "execution_count": 3,
   "metadata": {},
   "outputs": [
    {
     "name": "stdout",
     "output_type": "stream",
     "text": [
      "1\n",
      "0\n",
      "0\n",
      "0\n",
      "0\n"
     ]
    }
   ],
   "source": [
    "for i in range(5):\n",
    "    print(rp3.cech_cohomology(i))"
   ]
  },
  {
   "cell_type": "code",
   "execution_count": 23,
   "metadata": {},
   "outputs": [
    {
     "name": "stdout",
     "output_type": "stream",
     "text": [
      "1\n",
      "0\n",
      "0\n",
      "0\n",
      "1\n",
      "0\n",
      "0\n"
     ]
    }
   ],
   "source": [
    "s4 = Nerve()\n",
    "s4.extend(Simplex('0-1-2-3-4-5'), hollow=True)\n",
    "for i in range(7):\n",
    "    print(s4.cech_cohomology(i))"
   ]
  },
  {
   "cell_type": "code",
   "execution_count": null,
   "metadata": {},
   "outputs": [],
   "source": []
  }
 ],
 "metadata": {
  "kernelspec": {
   "display_name": "topo_venv",
   "language": "python",
   "name": "python3"
  },
  "language_info": {
   "codemirror_mode": {
    "name": "ipython",
    "version": 3
   },
   "file_extension": ".py",
   "mimetype": "text/x-python",
   "name": "python",
   "nbconvert_exporter": "python",
   "pygments_lexer": "ipython3",
   "version": "3.12.2"
  }
 },
 "nbformat": 4,
 "nbformat_minor": 2
}
