{
 "cells": [
  {
   "cell_type": "code",
   "execution_count": 3,
   "metadata": {},
   "outputs": [],
   "source": [
    "from cech import Nerve, Simplex"
   ]
  },
  {
   "cell_type": "code",
   "execution_count": 4,
   "metadata": {},
   "outputs": [
    {
     "name": "stdout",
     "output_type": "stream",
     "text": [
      "Simplex(0-1-2)\n",
      "2\n",
      "[Simplex(1-2), Simplex(0-2), Simplex(0-1)]\n",
      "['0', '1', '2']\n"
     ]
    }
   ],
   "source": [
    "s1 = Simplex(\"0-1-2\")\n",
    "print(s1)\n",
    "print(s1.dim)\n",
    "print(s1.bdy)\n",
    "print(s1.verts)"
   ]
  },
  {
   "cell_type": "code",
   "execution_count": 5,
   "metadata": {},
   "outputs": [
    {
     "name": "stdout",
     "output_type": "stream",
     "text": [
      "Nerve({\n",
      "\t0: \n",
      "\t\t0, 3, 4, 2, 1\n",
      "\t1: \n",
      "\t\t1-2, 0-3, 3-4, 0-1, 0-2\n",
      "\t2: \n",
      "\t\t0-1-2\n",
      "})\n",
      "2\n"
     ]
    }
   ],
   "source": [
    "n1 = Nerve({0: {\"0\", \"3\", \"4\"}, 1: {\"3-4\", \"0-3\"}})\n",
    "n1.extend(s1)\n",
    "print(n1)\n",
    "print(n1.degree)"
   ]
  },
  {
   "cell_type": "code",
   "execution_count": null,
   "metadata": {},
   "outputs": [],
   "source": []
  }
 ],
 "metadata": {
  "kernelspec": {
   "display_name": "topo_venv",
   "language": "python",
   "name": "python3"
  },
  "language_info": {
   "codemirror_mode": {
    "name": "ipython",
    "version": 3
   },
   "file_extension": ".py",
   "mimetype": "text/x-python",
   "name": "python",
   "nbconvert_exporter": "python",
   "pygments_lexer": "ipython3",
   "version": "3.12.2"
  }
 },
 "nbformat": 4,
 "nbformat_minor": 2
}
